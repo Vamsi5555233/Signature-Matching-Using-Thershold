{
 "cells": [
  {
   "cell_type": "code",
   "execution_count": null,
   "metadata": {},
   "outputs": [
    {
     "ename": "",
     "evalue": "",
     "output_type": "error",
     "traceback": [
      "\u001b[1;31mFailed to start the Kernel 'Python 3.12.3'. \n",
      "\u001b[1;31mView Jupyter <a href='command:jupyter.viewOutput'>log</a> for further details. ENOENT: no such file or directory, open 'C:\\Users\\Hp\\AppData\\Local\\Temp;C:\\Program Files\\Java\\jdk1.8.0_91\\bin;C:\\Program Files\\Java\\jre1.8.0_91\\bin\\kernel-v2-17624tyC5xyVYDwxS.json'"
     ]
    }
   ],
   "source": [
    "import cv2\n",
    "import numpy as np\n",
    "from skimage.metrics import structural_similarity as ssim"
   ]
  },
  {
   "cell_type": "code",
   "execution_count": null,
   "metadata": {},
   "outputs": [
    {
     "ename": "",
     "evalue": "",
     "output_type": "error",
     "traceback": [
      "\u001b[1;31mFailed to start the Kernel 'Python 3.12.3'. \n",
      "\u001b[1;31mView Jupyter <a href='command:jupyter.viewOutput'>log</a> for further details. ENOENT: no such file or directory, open 'C:\\Users\\Hp\\AppData\\Local\\Temp;C:\\Program Files\\Java\\jdk1.8.0_91\\bin;C:\\Program Files\\Java\\jre1.8.0_91\\bin\\kernel-v2-17624tyC5xyVYDwxS.json'"
     ]
    }
   ],
   "source": [
    "def compare_signatures(img1, img2):\n",
    "    # Convert the images to grayscale\n",
    "        # Convert the images to grayscale\n",
    "    gray1 = cv2.cvtColor(img1, cv2.COLOR_BGR2GRAY)\n",
    "    gray2 = cv2.cvtColor(img2, cv2.COLOR_BGR2GRAY)\n",
    "\n",
    "    # Compute the Structural Similarity Index (SSI)\n",
    "    similarity_index = ssim(gray1, gray2)\n",
    "    \n",
    "    # Define a threshold for similarity\n",
    "    similarity_threshold = 0.95\n",
    "\n",
    "\n",
    "    # Check if the similarity index is above the threshold\n",
    "    if similarity_index > similarity_threshold:\n",
    "        return True\n",
    "    else:\n",
    "        return False"
   ]
  },
  {
   "cell_type": "code",
   "execution_count": null,
   "metadata": {},
   "outputs": [
    {
     "ename": "",
     "evalue": "",
     "output_type": "error",
     "traceback": [
      "\u001b[1;31mFailed to start the Kernel 'Python 3.12.3'. \n",
      "\u001b[1;31mView Jupyter <a href='command:jupyter.viewOutput'>log</a> for further details. ENOENT: no such file or directory, open 'C:\\Users\\Hp\\AppData\\Local\\Temp;C:\\Program Files\\Java\\jdk1.8.0_91\\bin;C:\\Program Files\\Java\\jre1.8.0_91\\bin\\kernel-v2-17624tyC5xyVYDwxS.json'"
     ]
    }
   ],
   "source": [
    "# Load the original signature image\n",
    "original_image = cv2.imread(r'D:\\Downloads\\input2.png')\n",
    "cv2.imshow('original_image', original_image)\n",
    "cv2.waitKey(0)\n",
    "cv2.destroyAllWindows()"
   ]
  },
  {
   "cell_type": "code",
   "execution_count": null,
   "metadata": {},
   "outputs": [
    {
     "ename": "",
     "evalue": "",
     "output_type": "error",
     "traceback": [
      "\u001b[1;31mFailed to start the Kernel 'Python 3.12.3'. \n",
      "\u001b[1;31mView Jupyter <a href='command:jupyter.viewOutput'>log</a> for further details. ENOENT: no such file or directory, open 'C:\\Users\\Hp\\AppData\\Local\\Temp;C:\\Program Files\\Java\\jdk1.8.0_91\\bin;C:\\Program Files\\Java\\jre1.8.0_91\\bin\\kernel-v2-17624tyC5xyVYDwxS.json'"
     ]
    }
   ],
   "source": [
    "# Convert the image to grayscale\n",
    "gray_original = cv2.cvtColor(original_image, cv2.COLOR_BGR2GRAY)\n",
    "cv2.imshow('grayscale_image', gray_original)\n",
    "cv2.waitKey(0)\n",
    "cv2.destroyAllWindows()\n"
   ]
  },
  {
   "cell_type": "code",
   "execution_count": null,
   "metadata": {},
   "outputs": [
    {
     "ename": "",
     "evalue": "",
     "output_type": "error",
     "traceback": [
      "\u001b[1;31mFailed to start the Kernel 'Python 3.12.3'. \n",
      "\u001b[1;31mView Jupyter <a href='command:jupyter.viewOutput'>log</a> for further details. ENOENT: no such file or directory, open 'C:\\Users\\Hp\\AppData\\Local\\Temp;C:\\Program Files\\Java\\jdk1.8.0_91\\bin;C:\\Program Files\\Java\\jre1.8.0_91\\bin\\kernel-v2-17624tyC5xyVYDwxS.json'"
     ]
    }
   ],
   "source": [
    "# Threshold to obtain binary image\n",
    "_, binary_original = cv2.threshold(gray_original, 127, 255, cv2.THRESH_BINARY)\n",
    "cv2.imshow('grayscale_image', binary_original)\n",
    "cv2.waitKey(0)\n",
    "cv2.destroyAllWindows()"
   ]
  },
  {
   "cell_type": "code",
   "execution_count": null,
   "metadata": {},
   "outputs": [
    {
     "ename": "",
     "evalue": "",
     "output_type": "error",
     "traceback": [
      "\u001b[1;31mFailed to start the Kernel 'Python 3.12.3'. \n",
      "\u001b[1;31mView Jupyter <a href='command:jupyter.viewOutput'>log</a> for further details. ENOENT: no such file or directory, open 'C:\\Users\\Hp\\AppData\\Local\\Temp;C:\\Program Files\\Java\\jdk1.8.0_91\\bin;C:\\Program Files\\Java\\jre1.8.0_91\\bin\\kernel-v2-17624tyC5xyVYDwxS.json'"
     ]
    }
   ],
   "source": [
    "# Extract the signature contour from the original image\n",
    "_, contours1, _ = cv2.findContours(binary_original, cv2.RETR_EXTERNAL, cv2.CHAIN_APPROX_SIMPLE)\n",
    "contour1 = contours1[0]\n",
    "\n",
    "# Create a mask for the original signature\n",
    "mask = np.zeros(gray_original.shape, dtype=np.uint8)\n",
    "cv2.drawContours(mask, [contour1], 0, 255, -1)\n",
    "\n",
    "# Extract the signature region from the original image\n",
    "original_signature = cv2.bitwise_and(original_image, original_image, mask=mask)\n",
    "cv2.imshow('grayscale_image', original_signature)\n",
    "cv2.waitKey(0)\n",
    "cv2.destroyAllWindows()"
   ]
  },
  {
   "cell_type": "code",
   "execution_count": null,
   "metadata": {},
   "outputs": [
    {
     "ename": "",
     "evalue": "",
     "output_type": "error",
     "traceback": [
      "\u001b[1;31mFailed to start the Kernel 'Python 3.12.3'. \n",
      "\u001b[1;31mView Jupyter <a href='command:jupyter.viewOutput'>log</a> for further details. ENOENT: no such file or directory, open 'C:\\Users\\Hp\\AppData\\Local\\Temp;C:\\Program Files\\Java\\jdk1.8.0_91\\bin;C:\\Program Files\\Java\\jre1.8.0_91\\bin\\kernel-v2-17624tyC5xyVYDwxS.json'"
     ]
    }
   ],
   "source": [
    "# Load the input signature image\n",
    "input_image1 = cv2.imread(r'D:\\Downloads\\input2.png')\n",
    "input_image = cv2.resize(input_image1, (original_image.shape[1], original_image.shape[0]),interpolation=cv2.INTER_AREA)\n",
    "# Convert the image to grayscale\n",
    "gray_input = cv2.cvtColor(input_image, cv2.COLOR_BGR2GRAY)\n",
    "cv2.imshow('grayscale_image', gray_input)\n",
    "cv2.waitKey(0)\n",
    "cv2.destroyAllWindows()"
   ]
  },
  {
   "cell_type": "code",
   "execution_count": null,
   "metadata": {},
   "outputs": [
    {
     "ename": "",
     "evalue": "",
     "output_type": "error",
     "traceback": [
      "\u001b[1;31mFailed to start the Kernel 'Python 3.12.3'. \n",
      "\u001b[1;31mView Jupyter <a href='command:jupyter.viewOutput'>log</a> for further details. ENOENT: no such file or directory, open 'C:\\Users\\Hp\\AppData\\Local\\Temp;C:\\Program Files\\Java\\jdk1.8.0_91\\bin;C:\\Program Files\\Java\\jre1.8.0_91\\bin\\kernel-v2-17624tyC5xyVYDwxS.json'"
     ]
    }
   ],
   "source": [
    "# Threshold to obtain binary image\n",
    "_, binary_input = cv2.threshold(gray_input, 127, 255, cv2.THRESH_BINARY)\n",
    "cv2.imshow('grayscale_image', binary_input)\n",
    "cv2.waitKey(0)\n",
    "cv2.destroyAllWindows()"
   ]
  },
  {
   "cell_type": "code",
   "execution_count": null,
   "metadata": {},
   "outputs": [
    {
     "ename": "",
     "evalue": "",
     "output_type": "error",
     "traceback": [
      "\u001b[1;31mFailed to start the Kernel 'Python 3.12.3'. \n",
      "\u001b[1;31mView Jupyter <a href='command:jupyter.viewOutput'>log</a> for further details. ENOENT: no such file or directory, open 'C:\\Users\\Hp\\AppData\\Local\\Temp;C:\\Program Files\\Java\\jdk1.8.0_91\\bin;C:\\Program Files\\Java\\jre1.8.0_91\\bin\\kernel-v2-17624tyC5xyVYDwxS.json'"
     ]
    }
   ],
   "source": [
    "# Extract the signature contour from the input image\n",
    "_, contours2, _ = cv2.findContours(binary_input, cv2.RETR_EXTERNAL, cv2.CHAIN_APPROX_SIMPLE)\n",
    "contour2 = contours2[0]\n",
    "\n",
    "# Create a mask for the input signature\n",
    "mask = np.zeros(gray_input.shape, dtype=np.uint8)\n",
    "cv2.drawContours(mask, [contour2], 0, 255, -1)\n",
    "\n",
    "# Extract the signature region from the input image\n",
    "input_signature = cv2.bitwise_and(input_image, input_image, mask=mask)\n",
    "cv2.imshow('grayscale_image', input_signature)\n",
    "cv2.waitKey(0)\n",
    "cv2.destroyAllWindows()\n"
   ]
  },
  {
   "cell_type": "code",
   "execution_count": null,
   "metadata": {},
   "outputs": [
    {
     "ename": "",
     "evalue": "",
     "output_type": "error",
     "traceback": [
      "\u001b[1;31mFailed to start the Kernel 'Python 3.12.3'. \n",
      "\u001b[1;31mView Jupyter <a href='command:jupyter.viewOutput'>log</a> for further details. ENOENT: no such file or directory, open 'C:\\Users\\Hp\\AppData\\Local\\Temp;C:\\Program Files\\Java\\jdk1.8.0_91\\bin;C:\\Program Files\\Java\\jre1.8.0_91\\bin\\kernel-v2-17624tyC5xyVYDwxS.json'"
     ]
    }
   ],
   "source": [
    "# Compare the signatures\n",
    "if compare_signatures(original_signature, input_signature):\n",
    "    print('The signatures are matched')\n",
    "else:\n",
    "    print('The signatures are not Matched.')"
   ]
  },
  {
   "cell_type": "code",
   "execution_count": null,
   "metadata": {},
   "outputs": [
    {
     "ename": "",
     "evalue": "",
     "output_type": "error",
     "traceback": [
      "\u001b[1;31mFailed to start the Kernel 'Python 3.12.3'. \n",
      "\u001b[1;31mView Jupyter <a href='command:jupyter.viewOutput'>log</a> for further details. ENOENT: no such file or directory, open 'C:\\Users\\Hp\\AppData\\Local\\Temp;C:\\Program Files\\Java\\jdk1.8.0_91\\bin;C:\\Program Files\\Java\\jre1.8.0_91\\bin\\kernel-v2-17624tyC5xyVYDwxS.json'"
     ]
    }
   ],
   "source": []
  }
 ],
 "metadata": {
  "kernelspec": {
   "display_name": "Python 3",
   "language": "python",
   "name": "python3"
  },
  "language_info": {
   "codemirror_mode": {
    "name": "ipython",
    "version": 3
   },
   "file_extension": ".py",
   "mimetype": "text/x-python",
   "name": "python",
   "nbconvert_exporter": "python",
   "pygments_lexer": "ipython3",
   "version": "3.12.3"
  }
 },
 "nbformat": 4,
 "nbformat_minor": 2
}
